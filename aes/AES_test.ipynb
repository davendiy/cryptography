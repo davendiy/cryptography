{
 "cells": [
  {
   "cell_type": "code",
   "execution_count": 1,
   "metadata": {},
   "outputs": [],
   "source": [
    "import numpy as np\n",
    "import matplotlib.pyplot as plt\n",
    "from Crypto.Random import get_random_bytes\n",
    "from Crypto.Cipher import AES\n"
   ]
  },
  {
   "cell_type": "code",
   "execution_count": 23,
   "metadata": {},
   "outputs": [],
   "source": [
    "key = get_random_bytes(16)\n",
    "test_block = get_random_bytes(16)\n",
    "cipher = AES.new(key, AES.MODE_ECB)\n",
    "target = cipher.encrypt(test_block)"
   ]
  },
  {
   "cell_type": "code",
   "execution_count": 28,
   "metadata": {},
   "outputs": [
    {
     "name": "stdout",
     "output_type": "stream",
     "text": [
      "Done: 0.9769230769230769%%%"
     ]
    }
   ],
   "source": [
    "def hd(bytes1, bytes2):\n",
    "    t1, t2 = bytes1.hex(), bytes2.hex()\n",
    "    t1, t2 = int(t1, 16), int(t2, 16)\n",
    "    \n",
    "    res = t1 ^ t2\n",
    "    return bin(res).count('1')\n",
    "    \n",
    "    \n",
    "block_hex = int(test_block.hex(), 16)\n",
    "i = 1\n",
    "xor = 1\n",
    "\n",
    "distances = []\n",
    "\n",
    "amount = len(bin(block_hex))\n",
    "\n",
    "while xor < block_hex:\n",
    "\n",
    "    print(f'\\rDone: {i / amount}%', end='')\n",
    "    \n",
    "    tmp_hex = block_hex ^ xor\n",
    "    try:\n",
    "        tmp_block = bytes.fromhex(hex(tmp_hex)[2:])\n",
    "    except Exception as e:\n",
    "        tmp_block = bytes.fromhex('0'+hex(tmp_hex)[2:])\n",
    "    tmp_res = cipher.encrypt(tmp_block)\n",
    "    distances.append(hd(target, tmp_res))\n",
    "    i += 1\n",
    "    xor = 1 << i"
   ]
  },
  {
   "cell_type": "code",
   "execution_count": 29,
   "metadata": {},
   "outputs": [
    {
     "data": {
      "text/plain": [
       "(array([ 3.,  3.,  0.,  1.,  0.,  3.,  2.,  0.,  4.,  0.,  5.,  0.,  9.,\n",
       "         9.,  0.,  8.,  0.,  9.,  0.,  9., 10.,  0., 11.,  0.,  9.,  0.,\n",
       "         6.,  6.,  0.,  7.,  0.,  3.,  0.,  3.,  5.,  0.,  1.,  0.,  0.,\n",
       "         1.]),\n",
       " array([53.   , 53.575, 54.15 , 54.725, 55.3  , 55.875, 56.45 , 57.025,\n",
       "        57.6  , 58.175, 58.75 , 59.325, 59.9  , 60.475, 61.05 , 61.625,\n",
       "        62.2  , 62.775, 63.35 , 63.925, 64.5  , 65.075, 65.65 , 66.225,\n",
       "        66.8  , 67.375, 67.95 , 68.525, 69.1  , 69.675, 70.25 , 70.825,\n",
       "        71.4  , 71.975, 72.55 , 73.125, 73.7  , 74.275, 74.85 , 75.425,\n",
       "        76.   ]),\n",
       " <a list of 40 Patch objects>)"
      ]
     },
     "execution_count": 29,
     "metadata": {},
     "output_type": "execute_result"
    },
    {
     "data": {
      "image/png": "[encoded data removed]",
      "text/plain": [
       "<Figure size 432x288 with 1 Axes>"
      ]
     },
     "metadata": {
      "needs_background": "light"
     },
     "output_type": "display_data"
    }
   ],
   "source": [
    "plt.hist(distances, bins=40)"
   ]
  },
  {
   "cell_type": "code",
   "execution_count": 31,
   "metadata": {},
   "outputs": [
    {
     "data": {
      "text/plain": [
       "64.15748031496064"
      ]
     },
     "execution_count": 31,
     "metadata": {},
     "output_type": "execute_result"
    }
   ],
   "source": [
    "np.mean(distances)"
   ]
  },
  {
   "cell_type": "code",
   "execution_count": 32,
   "metadata": {},
   "outputs": [
    {
     "data": {
      "text/plain": [
       "53"
      ]
     },
     "execution_count": 32,
     "metadata": {},
     "output_type": "execute_result"
    }
   ],
   "source": [
    "min(distances)"
   ]
  }
 ],
 "metadata": {
  "kernelspec": {
   "display_name": "Python 3",
   "language": "python",
   "name": "python3"
  },
  "language_info": {
   "codemirror_mode": {
    "name": "ipython",
    "version": 3
   },
   "file_extension": ".py",
   "mimetype": "text/x-python",
   "name": "python",
   "nbconvert_exporter": "python",
   "pygments_lexer": "ipython3",
   "version": "3.6.9"
  }
 },
 "nbformat": 4,
 "nbformat_minor": 4
}
